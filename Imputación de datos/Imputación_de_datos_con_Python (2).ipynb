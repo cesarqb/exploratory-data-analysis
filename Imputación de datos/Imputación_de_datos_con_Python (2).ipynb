{
  "nbformat": 4,
  "nbformat_minor": 0,
  "metadata": {
    "colab": {
      "name": "Imputación de datos con Python.ipynb",
      "provenance": [],
      "collapsed_sections": [],
      "toc_visible": true
    },
    "kernelspec": {
      "display_name": "Python 3",
      "name": "python3"
    },
    "language_info": {
      "name": "python"
    },
    "accelerator": "GPU"
  },
  "cells": [
    {
      "cell_type": "markdown",
      "metadata": {
        "id": "XFqQsSOQIIVq"
      },
      "source": [
        "# **GUÍA SOBRE TÉCNICAS DE IMPUTACIÓN DE DATOS CON PYTHON**\n",
        "\n",
        "Las personas que trabajan en el campo de la ciencia de datos comprenden la importancia de los datos, los datos son el recurso para impulsar un modelo de aprendizaje automático.La mayoría de los algoritmos de Machine Learning esperan conjuntos de datos completos y limpios sin ningun tipo de ruido o perturbación; desafortunadamente, los conjuntos de datos del mundo real son desordenados, se encuentran en diferentes escalas de medición y siempre existen los conocidos valores faltantes, es por ello que el manejo de datos faltantes se vuelve muy importante para realizar un correcto análisis como cientíticos de datos.\n",
        "\n",
        "*   https://www.kaggle.com/residentmario/simple-techniques-for-missing-data-imputation\n",
        "*   https://ichi.pro/es/una-guia-rapida-sobre-tecnicas-de-imputacion-de-datos-faltantes-en-python-2020-92431787695134\n",
        "*   https://machinelearningmastery.com/handle-missing-data-python/"
      ]
    },
    {
      "cell_type": "markdown",
      "metadata": {
        "id": "JmEeeAg-JJdS"
      },
      "source": [
        "En este tutorial, descubrirá cómo manejar los datos faltantes para el aprendizaje automático con Python:\n",
        "\n",
        "\n",
        "\n",
        "*   Seleccionar valores perdidos en su conjunto de datos.\n",
        "*   Eliminar valores perdidos en su conjunto de datos.\n",
        "*   Imputar valores perdidos con técnicas de imputación simple y múltiple.\n",
        "\n",
        "\n",
        "\n"
      ]
    },
    {
      "cell_type": "code",
      "metadata": {
        "id": "4BIkO4VWIBoK"
      },
      "source": [
        ""
      ],
      "execution_count": null,
      "outputs": []
    },
    {
      "cell_type": "code",
      "metadata": {
        "id": "tgXt73ClIEjO"
      },
      "source": [
        ""
      ],
      "execution_count": null,
      "outputs": []
    },
    {
      "cell_type": "markdown",
      "metadata": {
        "id": "1SgIW4TCLXcK"
      },
      "source": [
        "## Conjunto de datos a trabajar: **Brewer's Friend Beer Recipes**\n",
        "\n",
        "Este es un conjunto de datos de 75,000 cervezas caseras con más de 176 estilos diferentes. Los registros de cerveza son informados por los usuarios y se clasifican de acuerdo con uno de los 176 estilos diferentes. Estas recetas tienen tanto o tan poco detalle como las proporcionó el usuario, pero hay al menos 5 columnas útiles donde se ingresaron datos para cada una: Original Gravity, Final Gravity, ABV, IBU, and Color\n",
        "\n",
        "https://www.kaggle.com/jtrofe/beer-recipes"
      ]
    },
    {
      "cell_type": "code",
      "metadata": {
        "id": "Y4boxOEPIElh"
      },
      "source": [
        ""
      ],
      "execution_count": null,
      "outputs": []
    },
    {
      "cell_type": "markdown",
      "metadata": {
        "id": "wGvXATovM8-g"
      },
      "source": [
        "## (1) Cargando librerías necesarias"
      ]
    },
    {
      "cell_type": "code",
      "metadata": {
        "id": "jVGP6Lb0IEoP"
      },
      "source": [
        "import pandas as pd # módulo para tratamiento de datos\n",
        "import numpy as np # módulo para tratamiento de matrices\n",
        "import missingno as msno # librería para tratamiento de datos perdidos\n",
        "import matplotlib.pyplot as plt # módulo graficador"
      ],
      "execution_count": 2,
      "outputs": []
    },
    {
      "cell_type": "markdown",
      "metadata": {
        "id": "6GPOY3x-Nlt5"
      },
      "source": [
        "## (2) Cargamos nuestro set de datos a trabajar"
      ]
    },
    {
      "cell_type": "code",
      "metadata": {
        "colab": {
          "base_uri": "https://localhost:8080/"
        },
        "id": "jcPIH0L3NDui",
        "outputId": "c2893034-68e3-42e6-c163-97cd9dc6943a"
      },
      "source": [
        "from google.colab import drive\n",
        "drive.mount('/gdrive')"
      ],
      "execution_count": 3,
      "outputs": [
        {
          "output_type": "stream",
          "name": "stdout",
          "text": [
            "Mounted at /gdrive\n"
          ]
        }
      ]
    },
    {
      "cell_type": "code",
      "metadata": {
        "id": "2IikLayvND7b",
        "colab": {
          "base_uri": "https://localhost:8080/",
          "height": 480
        },
        "outputId": "505b5335-9fcc-4b8c-e676-0dbc68bb7f3a"
      },
      "source": [
        "df = pd.read_csv('/gdrive/MyDrive/04. PROYECTOS/02. DATA SCIENCE Files/01. Publicaciones/03. Imputación de datos/data/recipeData.csv',encoding='latin-1')\n",
        "print(df.shape)\n",
        "df.head(5)"
      ],
      "execution_count": 4,
      "outputs": [
        {
          "output_type": "stream",
          "name": "stdout",
          "text": [
            "(73861, 23)\n"
          ]
        },
        {
          "output_type": "execute_result",
          "data": {
            "text/html": [
              "<div>\n",
              "<style scoped>\n",
              "    .dataframe tbody tr th:only-of-type {\n",
              "        vertical-align: middle;\n",
              "    }\n",
              "\n",
              "    .dataframe tbody tr th {\n",
              "        vertical-align: top;\n",
              "    }\n",
              "\n",
              "    .dataframe thead th {\n",
              "        text-align: right;\n",
              "    }\n",
              "</style>\n",
              "<table border=\"1\" class=\"dataframe\">\n",
              "  <thead>\n",
              "    <tr style=\"text-align: right;\">\n",
              "      <th></th>\n",
              "      <th>BeerID</th>\n",
              "      <th>Name</th>\n",
              "      <th>URL</th>\n",
              "      <th>Style</th>\n",
              "      <th>StyleID</th>\n",
              "      <th>Size(L)</th>\n",
              "      <th>OG</th>\n",
              "      <th>FG</th>\n",
              "      <th>ABV</th>\n",
              "      <th>IBU</th>\n",
              "      <th>Color</th>\n",
              "      <th>BoilSize</th>\n",
              "      <th>BoilTime</th>\n",
              "      <th>BoilGravity</th>\n",
              "      <th>Efficiency</th>\n",
              "      <th>MashThickness</th>\n",
              "      <th>SugarScale</th>\n",
              "      <th>BrewMethod</th>\n",
              "      <th>PitchRate</th>\n",
              "      <th>PrimaryTemp</th>\n",
              "      <th>PrimingMethod</th>\n",
              "      <th>PrimingAmount</th>\n",
              "      <th>UserId</th>\n",
              "    </tr>\n",
              "  </thead>\n",
              "  <tbody>\n",
              "    <tr>\n",
              "      <th>0</th>\n",
              "      <td>1</td>\n",
              "      <td>Vanilla Cream Ale</td>\n",
              "      <td>/homebrew/recipe/view/1633/vanilla-cream-ale</td>\n",
              "      <td>Cream Ale</td>\n",
              "      <td>45</td>\n",
              "      <td>21.77</td>\n",
              "      <td>1.055</td>\n",
              "      <td>1.013</td>\n",
              "      <td>5.48</td>\n",
              "      <td>17.65</td>\n",
              "      <td>4.83</td>\n",
              "      <td>28.39</td>\n",
              "      <td>75</td>\n",
              "      <td>1.038</td>\n",
              "      <td>70.0</td>\n",
              "      <td>NaN</td>\n",
              "      <td>Specific Gravity</td>\n",
              "      <td>All Grain</td>\n",
              "      <td>NaN</td>\n",
              "      <td>17.78</td>\n",
              "      <td>corn sugar</td>\n",
              "      <td>4.5 oz</td>\n",
              "      <td>116.0</td>\n",
              "    </tr>\n",
              "    <tr>\n",
              "      <th>1</th>\n",
              "      <td>2</td>\n",
              "      <td>Southern Tier Pumking clone</td>\n",
              "      <td>/homebrew/recipe/view/16367/southern-tier-pumk...</td>\n",
              "      <td>Holiday/Winter Special Spiced Beer</td>\n",
              "      <td>85</td>\n",
              "      <td>20.82</td>\n",
              "      <td>1.083</td>\n",
              "      <td>1.021</td>\n",
              "      <td>8.16</td>\n",
              "      <td>60.65</td>\n",
              "      <td>15.64</td>\n",
              "      <td>24.61</td>\n",
              "      <td>60</td>\n",
              "      <td>1.070</td>\n",
              "      <td>70.0</td>\n",
              "      <td>NaN</td>\n",
              "      <td>Specific Gravity</td>\n",
              "      <td>All Grain</td>\n",
              "      <td>NaN</td>\n",
              "      <td>NaN</td>\n",
              "      <td>NaN</td>\n",
              "      <td>NaN</td>\n",
              "      <td>955.0</td>\n",
              "    </tr>\n",
              "    <tr>\n",
              "      <th>2</th>\n",
              "      <td>3</td>\n",
              "      <td>Zombie Dust Clone - EXTRACT</td>\n",
              "      <td>/homebrew/recipe/view/5920/zombie-dust-clone-e...</td>\n",
              "      <td>American IPA</td>\n",
              "      <td>7</td>\n",
              "      <td>18.93</td>\n",
              "      <td>1.063</td>\n",
              "      <td>1.018</td>\n",
              "      <td>5.91</td>\n",
              "      <td>59.25</td>\n",
              "      <td>8.98</td>\n",
              "      <td>22.71</td>\n",
              "      <td>60</td>\n",
              "      <td>NaN</td>\n",
              "      <td>70.0</td>\n",
              "      <td>NaN</td>\n",
              "      <td>Specific Gravity</td>\n",
              "      <td>extract</td>\n",
              "      <td>NaN</td>\n",
              "      <td>NaN</td>\n",
              "      <td>NaN</td>\n",
              "      <td>NaN</td>\n",
              "      <td>NaN</td>\n",
              "    </tr>\n",
              "    <tr>\n",
              "      <th>3</th>\n",
              "      <td>4</td>\n",
              "      <td>Zombie Dust Clone - ALL GRAIN</td>\n",
              "      <td>/homebrew/recipe/view/5916/zombie-dust-clone-a...</td>\n",
              "      <td>American IPA</td>\n",
              "      <td>7</td>\n",
              "      <td>22.71</td>\n",
              "      <td>1.061</td>\n",
              "      <td>1.017</td>\n",
              "      <td>5.80</td>\n",
              "      <td>54.48</td>\n",
              "      <td>8.50</td>\n",
              "      <td>26.50</td>\n",
              "      <td>60</td>\n",
              "      <td>NaN</td>\n",
              "      <td>70.0</td>\n",
              "      <td>NaN</td>\n",
              "      <td>Specific Gravity</td>\n",
              "      <td>All Grain</td>\n",
              "      <td>NaN</td>\n",
              "      <td>NaN</td>\n",
              "      <td>NaN</td>\n",
              "      <td>NaN</td>\n",
              "      <td>NaN</td>\n",
              "    </tr>\n",
              "    <tr>\n",
              "      <th>4</th>\n",
              "      <td>5</td>\n",
              "      <td>Bakke Brygg Belgisk Blonde 50 l</td>\n",
              "      <td>/homebrew/recipe/view/89534/bakke-brygg-belgis...</td>\n",
              "      <td>Belgian Blond Ale</td>\n",
              "      <td>20</td>\n",
              "      <td>50.00</td>\n",
              "      <td>1.060</td>\n",
              "      <td>1.010</td>\n",
              "      <td>6.48</td>\n",
              "      <td>17.84</td>\n",
              "      <td>4.57</td>\n",
              "      <td>60.00</td>\n",
              "      <td>90</td>\n",
              "      <td>1.050</td>\n",
              "      <td>72.0</td>\n",
              "      <td>NaN</td>\n",
              "      <td>Specific Gravity</td>\n",
              "      <td>All Grain</td>\n",
              "      <td>NaN</td>\n",
              "      <td>19.00</td>\n",
              "      <td>Sukkerlake</td>\n",
              "      <td>6-7 g sukker/l</td>\n",
              "      <td>18325.0</td>\n",
              "    </tr>\n",
              "  </tbody>\n",
              "</table>\n",
              "</div>"
            ],
            "text/plain": [
              "   BeerID                             Name  ...   PrimingAmount   UserId\n",
              "0       1                Vanilla Cream Ale  ...          4.5 oz    116.0\n",
              "1       2      Southern Tier Pumking clone  ...             NaN    955.0\n",
              "2       3      Zombie Dust Clone - EXTRACT  ...             NaN      NaN\n",
              "3       4    Zombie Dust Clone - ALL GRAIN  ...             NaN      NaN\n",
              "4       5  Bakke Brygg Belgisk Blonde 50 l  ...  6-7 g sukker/l  18325.0\n",
              "\n",
              "[5 rows x 23 columns]"
            ]
          },
          "metadata": {},
          "execution_count": 4
        }
      ]
    },
    {
      "cell_type": "markdown",
      "metadata": {
        "id": "sy9dQ-KnO_kx"
      },
      "source": [
        "## (3) Análisis inicial: Análisis Exploratorio de datos"
      ]
    },
    {
      "cell_type": "code",
      "metadata": {
        "colab": {
          "base_uri": "https://localhost:8080/"
        },
        "id": "HCJm6sDtTcST",
        "outputId": "287b41bc-5ceb-4406-b376-5915571b69dc"
      },
      "source": [
        "# Entendiendo nuestro set de datos\n",
        "df.info()"
      ],
      "execution_count": 5,
      "outputs": [
        {
          "output_type": "stream",
          "name": "stdout",
          "text": [
            "<class 'pandas.core.frame.DataFrame'>\n",
            "RangeIndex: 73861 entries, 0 to 73860\n",
            "Data columns (total 23 columns):\n",
            " #   Column         Non-Null Count  Dtype  \n",
            "---  ------         --------------  -----  \n",
            " 0   BeerID         73861 non-null  int64  \n",
            " 1   Name           73860 non-null  object \n",
            " 2   URL            73861 non-null  object \n",
            " 3   Style          73265 non-null  object \n",
            " 4   StyleID        73861 non-null  int64  \n",
            " 5   Size(L)        73861 non-null  float64\n",
            " 6   OG             73861 non-null  float64\n",
            " 7   FG             73861 non-null  float64\n",
            " 8   ABV            73861 non-null  float64\n",
            " 9   IBU            73861 non-null  float64\n",
            " 10  Color          73861 non-null  float64\n",
            " 11  BoilSize       73861 non-null  float64\n",
            " 12  BoilTime       73861 non-null  int64  \n",
            " 13  BoilGravity    70871 non-null  float64\n",
            " 14  Efficiency     73861 non-null  float64\n",
            " 15  MashThickness  43997 non-null  float64\n",
            " 16  SugarScale     73861 non-null  object \n",
            " 17  BrewMethod     73861 non-null  object \n",
            " 18  PitchRate      34609 non-null  float64\n",
            " 19  PrimaryTemp    51199 non-null  float64\n",
            " 20  PrimingMethod  6766 non-null   object \n",
            " 21  PrimingAmount  4774 non-null   object \n",
            " 22  UserId         23371 non-null  float64\n",
            "dtypes: float64(13), int64(3), object(7)\n",
            "memory usage: 13.0+ MB\n"
          ]
        }
      ]
    },
    {
      "cell_type": "code",
      "metadata": {
        "colab": {
          "base_uri": "https://localhost:8080/",
          "height": 310
        },
        "id": "BAJNBKHqTlfm",
        "outputId": "6b824a62-2858-4a15-876c-b9aead825869"
      },
      "source": [
        "# Empezamos realizando un análisis descriptivo de las variables para entender sus dimensiones\n",
        "df.describe()"
      ],
      "execution_count": 6,
      "outputs": [
        {
          "output_type": "execute_result",
          "data": {
            "text/html": [
              "<div>\n",
              "<style scoped>\n",
              "    .dataframe tbody tr th:only-of-type {\n",
              "        vertical-align: middle;\n",
              "    }\n",
              "\n",
              "    .dataframe tbody tr th {\n",
              "        vertical-align: top;\n",
              "    }\n",
              "\n",
              "    .dataframe thead th {\n",
              "        text-align: right;\n",
              "    }\n",
              "</style>\n",
              "<table border=\"1\" class=\"dataframe\">\n",
              "  <thead>\n",
              "    <tr style=\"text-align: right;\">\n",
              "      <th></th>\n",
              "      <th>BeerID</th>\n",
              "      <th>StyleID</th>\n",
              "      <th>Size(L)</th>\n",
              "      <th>OG</th>\n",
              "      <th>FG</th>\n",
              "      <th>ABV</th>\n",
              "      <th>IBU</th>\n",
              "      <th>Color</th>\n",
              "      <th>BoilSize</th>\n",
              "      <th>BoilTime</th>\n",
              "      <th>BoilGravity</th>\n",
              "      <th>Efficiency</th>\n",
              "      <th>MashThickness</th>\n",
              "      <th>PitchRate</th>\n",
              "      <th>PrimaryTemp</th>\n",
              "      <th>UserId</th>\n",
              "    </tr>\n",
              "  </thead>\n",
              "  <tbody>\n",
              "    <tr>\n",
              "      <th>count</th>\n",
              "      <td>73861.000000</td>\n",
              "      <td>73861.000000</td>\n",
              "      <td>73861.000000</td>\n",
              "      <td>73861.000000</td>\n",
              "      <td>73861.000000</td>\n",
              "      <td>73861.000000</td>\n",
              "      <td>73861.000000</td>\n",
              "      <td>73861.000000</td>\n",
              "      <td>73861.000000</td>\n",
              "      <td>73861.000000</td>\n",
              "      <td>70871.000000</td>\n",
              "      <td>73861.000000</td>\n",
              "      <td>43997.000000</td>\n",
              "      <td>34609.000000</td>\n",
              "      <td>51199.000000</td>\n",
              "      <td>23371.000000</td>\n",
              "    </tr>\n",
              "    <tr>\n",
              "      <th>mean</th>\n",
              "      <td>36931.000000</td>\n",
              "      <td>60.179432</td>\n",
              "      <td>43.929775</td>\n",
              "      <td>1.406266</td>\n",
              "      <td>1.075865</td>\n",
              "      <td>6.136865</td>\n",
              "      <td>44.276186</td>\n",
              "      <td>13.404989</td>\n",
              "      <td>49.724919</td>\n",
              "      <td>65.074870</td>\n",
              "      <td>1.353955</td>\n",
              "      <td>66.354881</td>\n",
              "      <td>2.127235</td>\n",
              "      <td>0.750468</td>\n",
              "      <td>19.175641</td>\n",
              "      <td>43078.069188</td>\n",
              "    </tr>\n",
              "    <tr>\n",
              "      <th>std</th>\n",
              "      <td>21321.978453</td>\n",
              "      <td>56.811462</td>\n",
              "      <td>180.373492</td>\n",
              "      <td>2.196908</td>\n",
              "      <td>0.432524</td>\n",
              "      <td>1.883510</td>\n",
              "      <td>42.945508</td>\n",
              "      <td>11.944511</td>\n",
              "      <td>193.246427</td>\n",
              "      <td>15.024228</td>\n",
              "      <td>1.930989</td>\n",
              "      <td>14.091686</td>\n",
              "      <td>1.682347</td>\n",
              "      <td>0.394262</td>\n",
              "      <td>4.219676</td>\n",
              "      <td>27734.252556</td>\n",
              "    </tr>\n",
              "    <tr>\n",
              "      <th>min</th>\n",
              "      <td>1.000000</td>\n",
              "      <td>1.000000</td>\n",
              "      <td>1.000000</td>\n",
              "      <td>1.000000</td>\n",
              "      <td>-0.003000</td>\n",
              "      <td>0.000000</td>\n",
              "      <td>0.000000</td>\n",
              "      <td>0.000000</td>\n",
              "      <td>1.000000</td>\n",
              "      <td>0.000000</td>\n",
              "      <td>0.000000</td>\n",
              "      <td>0.000000</td>\n",
              "      <td>0.000000</td>\n",
              "      <td>0.000000</td>\n",
              "      <td>-17.780000</td>\n",
              "      <td>49.000000</td>\n",
              "    </tr>\n",
              "    <tr>\n",
              "      <th>25%</th>\n",
              "      <td>18466.000000</td>\n",
              "      <td>10.000000</td>\n",
              "      <td>18.930000</td>\n",
              "      <td>1.051000</td>\n",
              "      <td>1.011000</td>\n",
              "      <td>5.080000</td>\n",
              "      <td>23.370000</td>\n",
              "      <td>5.170000</td>\n",
              "      <td>20.820000</td>\n",
              "      <td>60.000000</td>\n",
              "      <td>1.040000</td>\n",
              "      <td>65.000000</td>\n",
              "      <td>1.500000</td>\n",
              "      <td>0.350000</td>\n",
              "      <td>18.000000</td>\n",
              "      <td>20984.000000</td>\n",
              "    </tr>\n",
              "    <tr>\n",
              "      <th>50%</th>\n",
              "      <td>36931.000000</td>\n",
              "      <td>35.000000</td>\n",
              "      <td>20.820000</td>\n",
              "      <td>1.058000</td>\n",
              "      <td>1.013000</td>\n",
              "      <td>5.790000</td>\n",
              "      <td>35.770000</td>\n",
              "      <td>8.440000</td>\n",
              "      <td>27.440000</td>\n",
              "      <td>60.000000</td>\n",
              "      <td>1.047000</td>\n",
              "      <td>70.000000</td>\n",
              "      <td>1.500000</td>\n",
              "      <td>0.750000</td>\n",
              "      <td>20.000000</td>\n",
              "      <td>42897.000000</td>\n",
              "    </tr>\n",
              "    <tr>\n",
              "      <th>75%</th>\n",
              "      <td>55396.000000</td>\n",
              "      <td>111.000000</td>\n",
              "      <td>23.660000</td>\n",
              "      <td>1.069000</td>\n",
              "      <td>1.017000</td>\n",
              "      <td>6.830000</td>\n",
              "      <td>56.380000</td>\n",
              "      <td>16.790000</td>\n",
              "      <td>30.000000</td>\n",
              "      <td>60.000000</td>\n",
              "      <td>1.060000</td>\n",
              "      <td>75.000000</td>\n",
              "      <td>3.000000</td>\n",
              "      <td>1.000000</td>\n",
              "      <td>20.000000</td>\n",
              "      <td>57841.000000</td>\n",
              "    </tr>\n",
              "    <tr>\n",
              "      <th>max</th>\n",
              "      <td>73861.000000</td>\n",
              "      <td>176.000000</td>\n",
              "      <td>9200.000000</td>\n",
              "      <td>34.034500</td>\n",
              "      <td>23.424600</td>\n",
              "      <td>54.720000</td>\n",
              "      <td>3409.300000</td>\n",
              "      <td>186.000000</td>\n",
              "      <td>9700.000000</td>\n",
              "      <td>240.000000</td>\n",
              "      <td>52.600000</td>\n",
              "      <td>100.000000</td>\n",
              "      <td>100.000000</td>\n",
              "      <td>2.000000</td>\n",
              "      <td>114.000000</td>\n",
              "      <td>134362.000000</td>\n",
              "    </tr>\n",
              "  </tbody>\n",
              "</table>\n",
              "</div>"
            ],
            "text/plain": [
              "             BeerID       StyleID  ...   PrimaryTemp         UserId\n",
              "count  73861.000000  73861.000000  ...  51199.000000   23371.000000\n",
              "mean   36931.000000     60.179432  ...     19.175641   43078.069188\n",
              "std    21321.978453     56.811462  ...      4.219676   27734.252556\n",
              "min        1.000000      1.000000  ...    -17.780000      49.000000\n",
              "25%    18466.000000     10.000000  ...     18.000000   20984.000000\n",
              "50%    36931.000000     35.000000  ...     20.000000   42897.000000\n",
              "75%    55396.000000    111.000000  ...     20.000000   57841.000000\n",
              "max    73861.000000    176.000000  ...    114.000000  134362.000000\n",
              "\n",
              "[8 rows x 16 columns]"
            ]
          },
          "metadata": {},
          "execution_count": 6
        }
      ]
    },
    {
      "cell_type": "code",
      "metadata": {
        "colab": {
          "base_uri": "https://localhost:8080/"
        },
        "id": "DWqs3WjNOSed",
        "outputId": "4b463fcd-ee8b-4112-fff5-9d32addaa5f2"
      },
      "source": [
        "# explorando la cantidad de valores perdidos en las variables\n",
        "df.isna().sum()/df.shape[0]*100"
      ],
      "execution_count": 7,
      "outputs": [
        {
          "output_type": "execute_result",
          "data": {
            "text/plain": [
              "BeerID            0.000000\n",
              "Name              0.001354\n",
              "URL               0.000000\n",
              "Style             0.806921\n",
              "StyleID           0.000000\n",
              "Size(L)           0.000000\n",
              "OG                0.000000\n",
              "FG                0.000000\n",
              "ABV               0.000000\n",
              "IBU               0.000000\n",
              "Color             0.000000\n",
              "BoilSize          0.000000\n",
              "BoilTime          0.000000\n",
              "BoilGravity       4.048144\n",
              "Efficiency        0.000000\n",
              "MashThickness    40.432705\n",
              "SugarScale        0.000000\n",
              "BrewMethod        0.000000\n",
              "PitchRate        53.143066\n",
              "PrimaryTemp      30.681957\n",
              "PrimingMethod    90.839550\n",
              "PrimingAmount    93.536508\n",
              "UserId           68.358132\n",
              "dtype: float64"
            ]
          },
          "metadata": {},
          "execution_count": 7
        }
      ]
    },
    {
      "cell_type": "markdown",
      "metadata": {
        "id": "bTR0QDEKaoK3"
      },
      "source": [
        "Un vistazo inicial nos muestra que existen variables con mucha información faltante como son las variables MashThickness, PitchRate, PrimaryTemp,PrimingMethod, PrimingAmount. Más adelante se analizará las casuísticas de imputación que se pueden seguir para este tipo de tratamientos."
      ]
    },
    {
      "cell_type": "code",
      "metadata": {
        "id": "8QlLS9VxO_JQ"
      },
      "source": [
        ""
      ],
      "execution_count": null,
      "outputs": []
    },
    {
      "cell_type": "markdown",
      "metadata": {
        "id": "T-KyQoe3Qsvy"
      },
      "source": [
        "Ahora se trabajará con el paquete missingno para tratamiento y visualización de datos. Este tutorial no busca profundizar en esta herramienta pero para el que quiera hacerlo les dejo un enlace con mas detalles de este paquete:\n",
        "https://analyticsindiamag.com/tutorial-on-missingno-python-tool-to-visualize-missing-values/"
      ]
    },
    {
      "cell_type": "markdown",
      "metadata": {
        "id": "qYiKaC9yRujX"
      },
      "source": [
        "**Matrix missing:** Mostramos una matriz de calor para visualizar las variables con mayor presencia de valores perdidos. Las líneas blancas indican los valores faltantes en cada columna."
      ]
    },
    {
      "cell_type": "code",
      "metadata": {
        "colab": {
          "base_uri": "https://localhost:8080/",
          "height": 612
        },
        "id": "oYgzf_d6OSgo",
        "outputId": "ea08c3e0-82cc-4a19-bdca-415fe800113a"
      },
      "source": [
        "# matrix missing\n",
        "msno.matrix(df)"
      ],
      "execution_count": 8,
      "outputs": [
        {
          "output_type": "execute_result",
          "data": {
            "text/plain": [
              "<matplotlib.axes._subplots.AxesSubplot at 0x7fc30f1d4190>"
            ]
          },
          "metadata": {},
          "execution_count": 8
        },
        {
          "output_type": "display_data",
          "data": {
            "image/png": "[encoded data removed]",
            "text/plain": [
              "<Figure size 1800x720 with 2 Axes>"
            ]
          },
          "metadata": {
            "needs_background": "light"
          }
        }
      ]
    },
    {
      "cell_type": "code",
      "metadata": {
        "id": "RvOY9n94SCCO"
      },
      "source": [
        ""
      ],
      "execution_count": null,
      "outputs": []
    },
    {
      "cell_type": "markdown",
      "metadata": {
        "id": "cmZiyKe8R3W2"
      },
      "source": [
        "**heatmap missing cor:** El mapa de calor muestra una correlación positiva con el azul. Cuanto más oscuro sea el tono de azul, mayor será la correlación.\n"
      ]
    },
    {
      "cell_type": "code",
      "metadata": {
        "colab": {
          "base_uri": "https://localhost:8080/",
          "height": 808
        },
        "id": "IXzjp90xRADO",
        "outputId": "99a250a8-df64-4f30-90fd-33f1b85840a6"
      },
      "source": [
        "# heatmap missing\n",
        "msno.heatmap(df)"
      ],
      "execution_count": 9,
      "outputs": [
        {
          "output_type": "execute_result",
          "data": {
            "text/plain": [
              "<matplotlib.axes._subplots.AxesSubplot at 0x7fc3066ece90>"
            ]
          },
          "metadata": {},
          "execution_count": 9
        },
        {
          "output_type": "display_data",
          "data": {
            "image/png": "[encoded data removed]",
            "text/plain": [
              "<Figure size 1440x864 with 2 Axes>"
            ]
          },
          "metadata": {
            "needs_background": "light"
          }
        }
      ]
    },
    {
      "cell_type": "code",
      "metadata": {
        "id": "5FqW7T67RAF0"
      },
      "source": [
        ""
      ],
      "execution_count": null,
      "outputs": []
    },
    {
      "cell_type": "markdown",
      "metadata": {
        "id": "EFLvdsalSG-8"
      },
      "source": [
        "**bar missing:** Otra forma de visualizar los datos de los valores perdidos es mediante el uso de gráficos de barras. Estas barras muestran los valores que son proporcionales a los datos que no faltan en el conjunto de datos. Junto con eso, también se muestra el número de valores que faltan."
      ]
    },
    {
      "cell_type": "code",
      "metadata": {
        "colab": {
          "base_uri": "https://localhost:8080/",
          "height": 647
        },
        "id": "zO6zhw8BOSjQ",
        "outputId": "4888b907-3f9c-4fa8-ea8e-686410b23007"
      },
      "source": [
        "# bar missing\n",
        "msno.bar(df)"
      ],
      "execution_count": 10,
      "outputs": [
        {
          "output_type": "execute_result",
          "data": {
            "text/plain": [
              "<matplotlib.axes._subplots.AxesSubplot at 0x7fc306917510>"
            ]
          },
          "metadata": {},
          "execution_count": 10
        },
        {
          "output_type": "display_data",
          "data": {
            "image/png": "[encoded data removed]",
            "text/plain": [
              "<Figure size 1800x720 with 3 Axes>"
            ]
          },
          "metadata": {
            "needs_background": "light"
          }
        }
      ]
    },
    {
      "cell_type": "code",
      "metadata": {
        "id": "4DrUVeRyOSmI"
      },
      "source": [
        ""
      ],
      "execution_count": null,
      "outputs": []
    },
    {
      "cell_type": "markdown",
      "metadata": {
        "id": "L-QH2Yc8TJ88"
      },
      "source": [
        "## (4) Técnicas de imputación de datos"
      ]
    },
    {
      "cell_type": "markdown",
      "metadata": {
        "id": "WJpeowUqTCQs"
      },
      "source": [
        "Hay dos clases amplias de datos faltantes: datos que faltan al azar y datos que faltan no al azar. Al considerar qué hacer con nuestros datos debemos tener esto en cuenta."
      ]
    },
    {
      "cell_type": "code",
      "metadata": {
        "id": "hoX9nwGMSr3J"
      },
      "source": [
        ""
      ],
      "execution_count": null,
      "outputs": []
    },
    {
      "cell_type": "markdown",
      "metadata": {
        "id": "lKIPBaUS1Eay"
      },
      "source": [
        "### (4.1) Técnicas de Imputación Univariada\n",
        "\n",
        "Existen varias técnicas de imputación simple que permite realizar estimaciones acertadas y sin muchas complicaciones"
      ]
    },
    {
      "cell_type": "code",
      "metadata": {
        "id": "ORA87fqrSr5f"
      },
      "source": [
        ""
      ],
      "execution_count": null,
      "outputs": []
    },
    {
      "cell_type": "markdown",
      "metadata": {
        "id": "V4HlHzM_1Z9L"
      },
      "source": [
        "a) Eliminar valores perdidos\n",
        "\n",
        "El enfoque más fácil y rápido para un problema de datos faltantes es eliminar las entradas infractoras. Esta es una solución aceptable si estamos seguros de que los datos faltantes en el conjunto de datos faltan al azar, y si el número de puntos de datos a los que tenemos acceso es lo suficientemente alto como para que descartar algunos de ellos no nos haga perder la generalización en los modelos. construimos (para determinar si este es el caso o no, use una curva de aprendizaje)."
      ]
    },
    {
      "cell_type": "code",
      "metadata": {
        "id": "1n4f9lJX1ZgP",
        "colab": {
          "base_uri": "https://localhost:8080/"
        },
        "outputId": "81e1e508-7824-4269-d063-45799bfc829a"
      },
      "source": [
        "df_imput01 = df.dropna() # hacemos una copia de nuestra base de datos\n",
        "\n",
        "# Comparamos nuestra data original vs la data reducida luego de la imputación\n",
        "print('nro de filas originales:',df.shape[0])\n",
        "print('nro de filas imput01:',df_imput01.shape[0])\n",
        "print('% de pérdida:',(df_imput01.shape[0]/df.shape[0])*100)"
      ],
      "execution_count": 11,
      "outputs": [
        {
          "output_type": "stream",
          "name": "stdout",
          "text": [
            "nro de filas originales: 73861\n",
            "nro de filas imput01: 757\n",
            "% de pérdida: 1.0248981194405709\n"
          ]
        }
      ]
    },
    {
      "cell_type": "markdown",
      "metadata": {
        "id": "3wbdWnQTdyiH"
      },
      "source": [
        "Se puede observar que este primer método no es muy recomendable porque perdemos casi la totalidad de nuestra información por tratar de conservar todas las variables. En este caso lo mas recomendable es descartar estas variables con gran cantidad de valores perdidos que no aportan a nuestro análisis.\n",
        "\n",
        "Las variables con gran presencia de valores perdidos son: \n",
        "\n",
        "MashThickness, PitchRate, PrimaryTemp,PrimingMethod, PrimingAmount,UserId.\n"
      ]
    },
    {
      "cell_type": "code",
      "metadata": {
        "id": "5rB-R9Dt1Ziq",
        "colab": {
          "base_uri": "https://localhost:8080/"
        },
        "outputId": "24c33f91-fc05-43fb-c22b-d6d6776834fb"
      },
      "source": [
        "df_imput02 = df.drop(['MashThickness', 'PitchRate', 'PrimaryTemp','PrimingMethod', 'PrimingAmount','UserId'], axis=1)\n",
        "df_imput02 = df_imput02.dropna()\n",
        "\n",
        "# Comparamos nuestra data original vs la data reducida luego de la imputación\n",
        "print('nro de filas originales:',df.shape[0], '/ nro de variables originales:',df.shape[1])\n",
        "print('nro de filas imput02:',df_imput02.shape[0],'/ nro de variables imput02:',df_imput02.shape[1])\n",
        "print('% de pérdida:',(df_imput02.shape[0]/df.shape[0])*100)"
      ],
      "execution_count": 12,
      "outputs": [
        {
          "output_type": "stream",
          "name": "stdout",
          "text": [
            "nro de filas originales: 73861 / nro de variables originales: 23\n",
            "nro de filas imput02: 70516 / nro de variables imput02: 17\n",
            "% de pérdida: 95.47122297288149\n"
          ]
        }
      ]
    },
    {
      "cell_type": "code",
      "metadata": {
        "id": "PvcN906B1ZlS"
      },
      "source": [
        ""
      ],
      "execution_count": null,
      "outputs": []
    },
    {
      "cell_type": "markdown",
      "metadata": {
        "id": "BVYMYYMqj3mg"
      },
      "source": [
        "b) Métodos de imputación: Media o mediana u otra sustitución estadística de resumen.\n",
        "\n",
        "El método de imputación más simple es reemplazar los valores perdidos con los valores medios o medianos del conjunto de datos en general, o alguna estadística de resumen similar. Esto tiene la ventaja de ser el enfoque más simple posible y uno que no introduce ningún sesgo indebido en el conjunto de datos."
      ]
    },
    {
      "cell_type": "markdown",
      "metadata": {
        "id": "cfhqS8iLkT3m"
      },
      "source": [
        "[Sin embargo] con valores perdidos que no son estrictamente aleatorios, especialmente en presencia de una gran desigualdad en el número de valores perdidos para las diferentes variables, el método de sustitución de medias puede conducir a un sesgo inconsistente. Además, este enfoque no agrega información nueva, solo aumenta el tamaño de la muestra y conduce a una subestimación de los errores. Por tanto, la sustitución de medias no se acepta generalmente."
      ]
    },
    {
      "cell_type": "code",
      "metadata": {
        "id": "V2eKmO4xtsup"
      },
      "source": [
        ""
      ],
      "execution_count": null,
      "outputs": []
    },
    {
      "cell_type": "code",
      "metadata": {
        "colab": {
          "base_uri": "https://localhost:8080/"
        },
        "id": "SC0SoHCCt3e5",
        "outputId": "2078fad2-be0f-4070-bdc0-35bbf8f180c7"
      },
      "source": [
        "df_imput03 = df # Copiamos nuestra base de datos para probar técnicas de imputación de datos\n",
        "df_imput03.isnull().sum()/df_imput03.shape[0]"
      ],
      "execution_count": 13,
      "outputs": [
        {
          "output_type": "execute_result",
          "data": {
            "text/plain": [
              "BeerID           0.000000\n",
              "Name             0.000014\n",
              "URL              0.000000\n",
              "Style            0.008069\n",
              "StyleID          0.000000\n",
              "Size(L)          0.000000\n",
              "OG               0.000000\n",
              "FG               0.000000\n",
              "ABV              0.000000\n",
              "IBU              0.000000\n",
              "Color            0.000000\n",
              "BoilSize         0.000000\n",
              "BoilTime         0.000000\n",
              "BoilGravity      0.040481\n",
              "Efficiency       0.000000\n",
              "MashThickness    0.404327\n",
              "SugarScale       0.000000\n",
              "BrewMethod       0.000000\n",
              "PitchRate        0.531431\n",
              "PrimaryTemp      0.306820\n",
              "PrimingMethod    0.908395\n",
              "PrimingAmount    0.935365\n",
              "UserId           0.683581\n",
              "dtype: float64"
            ]
          },
          "metadata": {},
          "execution_count": 13
        }
      ]
    },
    {
      "cell_type": "code",
      "metadata": {
        "id": "ykvU79LmB9i1"
      },
      "source": [
        ""
      ],
      "execution_count": null,
      "outputs": []
    },
    {
      "cell_type": "markdown",
      "metadata": {
        "id": "YTIx2FlYt5tY"
      },
      "source": [
        "Seleccionamos la variable 'MashThickness' para imputar sus valores perdidos."
      ]
    },
    {
      "cell_type": "code",
      "metadata": {
        "id": "SjYbIkN4uip2"
      },
      "source": [
        "df_imput03['MashThickness_imput_1'] = df_imput03['MashThickness'].fillna( df_imput03['MashThickness'].mean()) # Imputando los valores perdidos por la media\n",
        "df_imput03['MashThickness_imput_2'] = df_imput03['MashThickness'].fillna( df_imput03['MashThickness'].median()) # Imputando los valores perdidos por la mediana"
      ],
      "execution_count": 14,
      "outputs": []
    },
    {
      "cell_type": "code",
      "metadata": {
        "colab": {
          "base_uri": "https://localhost:8080/",
          "height": 290
        },
        "id": "Hf_sijmZuiqn",
        "outputId": "e84f52e0-8f53-4ba5-9188-c2571cb920f9"
      },
      "source": [
        "df_imput03[['MashThickness','MashThickness_imput_1','MashThickness_imput_2']].describe() "
      ],
      "execution_count": 15,
      "outputs": [
        {
          "output_type": "execute_result",
          "data": {
            "text/html": [
              "<div>\n",
              "<style scoped>\n",
              "    .dataframe tbody tr th:only-of-type {\n",
              "        vertical-align: middle;\n",
              "    }\n",
              "\n",
              "    .dataframe tbody tr th {\n",
              "        vertical-align: top;\n",
              "    }\n",
              "\n",
              "    .dataframe thead th {\n",
              "        text-align: right;\n",
              "    }\n",
              "</style>\n",
              "<table border=\"1\" class=\"dataframe\">\n",
              "  <thead>\n",
              "    <tr style=\"text-align: right;\">\n",
              "      <th></th>\n",
              "      <th>MashThickness</th>\n",
              "      <th>MashThickness_imput_1</th>\n",
              "      <th>MashThickness_imput_2</th>\n",
              "    </tr>\n",
              "  </thead>\n",
              "  <tbody>\n",
              "    <tr>\n",
              "      <th>count</th>\n",
              "      <td>43997.000000</td>\n",
              "      <td>73861.000000</td>\n",
              "      <td>73861.000000</td>\n",
              "    </tr>\n",
              "    <tr>\n",
              "      <th>mean</th>\n",
              "      <td>2.127235</td>\n",
              "      <td>2.127235</td>\n",
              "      <td>1.873627</td>\n",
              "    </tr>\n",
              "    <tr>\n",
              "      <th>std</th>\n",
              "      <td>1.682347</td>\n",
              "      <td>1.298427</td>\n",
              "      <td>1.334417</td>\n",
              "    </tr>\n",
              "    <tr>\n",
              "      <th>min</th>\n",
              "      <td>0.000000</td>\n",
              "      <td>0.000000</td>\n",
              "      <td>0.000000</td>\n",
              "    </tr>\n",
              "    <tr>\n",
              "      <th>25%</th>\n",
              "      <td>1.500000</td>\n",
              "      <td>1.500000</td>\n",
              "      <td>1.500000</td>\n",
              "    </tr>\n",
              "    <tr>\n",
              "      <th>50%</th>\n",
              "      <td>1.500000</td>\n",
              "      <td>2.127235</td>\n",
              "      <td>1.500000</td>\n",
              "    </tr>\n",
              "    <tr>\n",
              "      <th>75%</th>\n",
              "      <td>3.000000</td>\n",
              "      <td>2.127235</td>\n",
              "      <td>1.530000</td>\n",
              "    </tr>\n",
              "    <tr>\n",
              "      <th>max</th>\n",
              "      <td>100.000000</td>\n",
              "      <td>100.000000</td>\n",
              "      <td>100.000000</td>\n",
              "    </tr>\n",
              "  </tbody>\n",
              "</table>\n",
              "</div>"
            ],
            "text/plain": [
              "       MashThickness  MashThickness_imput_1  MashThickness_imput_2\n",
              "count   43997.000000           73861.000000           73861.000000\n",
              "mean        2.127235               2.127235               1.873627\n",
              "std         1.682347               1.298427               1.334417\n",
              "min         0.000000               0.000000               0.000000\n",
              "25%         1.500000               1.500000               1.500000\n",
              "50%         1.500000               2.127235               1.500000\n",
              "75%         3.000000               2.127235               1.530000\n",
              "max       100.000000             100.000000             100.000000"
            ]
          },
          "metadata": {},
          "execution_count": 15
        }
      ]
    },
    {
      "cell_type": "code",
      "metadata": {
        "id": "jKfAtV-ou1CM"
      },
      "source": [
        ""
      ],
      "execution_count": null,
      "outputs": []
    },
    {
      "cell_type": "code",
      "metadata": {
        "id": "bXGkvarKeEj2"
      },
      "source": [
        "#df['MashThickness'].isnull().sum(), df['MashThickness'].fillna(df['MashThickness'].mean()).isnull().sum()"
      ],
      "execution_count": null,
      "outputs": []
    },
    {
      "cell_type": "code",
      "metadata": {
        "id": "54vg-U06eEmP"
      },
      "source": [
        "#df['MashThickness'].mean(), df['MashThickness'].fillna(df['MashThickness'].mean()).mean()"
      ],
      "execution_count": null,
      "outputs": []
    },
    {
      "cell_type": "code",
      "metadata": {
        "id": "tc1ZAxw21ZnS"
      },
      "source": [
        ""
      ],
      "execution_count": null,
      "outputs": []
    },
    {
      "cell_type": "markdown",
      "metadata": {
        "id": "mYlCzPHa_pnO"
      },
      "source": [
        "### (4.2) Técnicas de Imputación Multivariada\n",
        "\n",
        "La imputación simple puede ser muy práctica pero poco util al no considerar la relación entre las variables. Los conjuntos de datos multivariados son conjuntos de datos que tienen más de dos variables o columnas de características por observación."
      ]
    },
    {
      "cell_type": "markdown",
      "metadata": {
        "id": "lq2XWMZWAF2d"
      },
      "source": [
        "a) IterativeImputer:\n",
        "\n",
        "En IterativeImpute, cada característica con un valor perdido se usa como una función de otras características con salida conocida y modela la función para imputaciones.\n",
        "\n",
        "Luego, el mismo proceso se itera en un bucle para algunas iteraciones y en cada paso, se selecciona una columna de características como salida y y otras columnas de características se tratan como entradas X , luego se ajusta un regresor en (X, y) para y conocidas y se utiliza para predecir los valores perdidos de y . El mismo proceso se repite para cada columna de características en un ciclo y se toma el promedio de todos los valores de regresión múltiple para imputar los valores faltantes para los puntos de datos."
      ]
    },
    {
      "cell_type": "code",
      "metadata": {
        "id": "uuLaGGQM_o_0"
      },
      "source": [
        "from sklearn.experimental import enable_iterative_imputer\n",
        "from sklearn.impute import IterativeImputer"
      ],
      "execution_count": 16,
      "outputs": []
    },
    {
      "cell_type": "code",
      "metadata": {
        "id": "m6J9SfPh_pC5"
      },
      "source": [
        "imp = IterativeImputer(max_iter=10, random_state=0)"
      ],
      "execution_count": 17,
      "outputs": []
    },
    {
      "cell_type": "markdown",
      "metadata": {
        "id": "DYGqazjDDAfG"
      },
      "source": [
        "Se consideran las variables: \n",
        "BoilGravity\n",
        "MashThickness\n",
        "PitchRate\n",
        "PrimaryTemp\n",
        "\n",
        "Como ideales para imputación por estar en rangos aceptables de pérdida."
      ]
    },
    {
      "cell_type": "code",
      "metadata": {
        "colab": {
          "base_uri": "https://localhost:8080/"
        },
        "id": "wMbagpm9BF_J",
        "outputId": "415a4d04-3bf3-4843-dc52-8e8590af27d1"
      },
      "source": [
        "# Seleccionamos variables a imputar\n",
        "df[['BoilGravity','MashThickness','PitchRate','PrimaryTemp']].isnull().sum()/df.shape[0]"
      ],
      "execution_count": 18,
      "outputs": [
        {
          "output_type": "execute_result",
          "data": {
            "text/plain": [
              "BoilGravity      0.040481\n",
              "MashThickness    0.404327\n",
              "PitchRate        0.531431\n",
              "PrimaryTemp      0.306820\n",
              "dtype: float64"
            ]
          },
          "metadata": {},
          "execution_count": 18
        }
      ]
    },
    {
      "cell_type": "code",
      "metadata": {
        "colab": {
          "base_uri": "https://localhost:8080/",
          "height": 216
        },
        "id": "YasjpuW_BGCH",
        "outputId": "f11ad457-e9ab-41c1-8938-362912a341b1"
      },
      "source": [
        "# Realizamos la imputación multivariada de regresión\n",
        "df_imput04 = df[['BoilGravity','MashThickness','PitchRate','PrimaryTemp']]\n",
        "df_imput04 = imp.fit_transform(df_imput04)\n",
        "df_imput04 = pd.DataFrame(df_imput04, columns=['BoilGravity_04','MashThickness_04','PitchRate_04','PrimaryTemp_04'])\n",
        "print(df_imput04.shape)\n",
        "df_imput04.head()"
      ],
      "execution_count": 19,
      "outputs": [
        {
          "output_type": "stream",
          "name": "stdout",
          "text": [
            "(73861, 4)\n"
          ]
        },
        {
          "output_type": "execute_result",
          "data": {
            "text/html": [
              "<div>\n",
              "<style scoped>\n",
              "    .dataframe tbody tr th:only-of-type {\n",
              "        vertical-align: middle;\n",
              "    }\n",
              "\n",
              "    .dataframe tbody tr th {\n",
              "        vertical-align: top;\n",
              "    }\n",
              "\n",
              "    .dataframe thead th {\n",
              "        text-align: right;\n",
              "    }\n",
              "</style>\n",
              "<table border=\"1\" class=\"dataframe\">\n",
              "  <thead>\n",
              "    <tr style=\"text-align: right;\">\n",
              "      <th></th>\n",
              "      <th>BoilGravity_04</th>\n",
              "      <th>MashThickness_04</th>\n",
              "      <th>PitchRate_04</th>\n",
              "      <th>PrimaryTemp_04</th>\n",
              "    </tr>\n",
              "  </thead>\n",
              "  <tbody>\n",
              "    <tr>\n",
              "      <th>0</th>\n",
              "      <td>1.03800</td>\n",
              "      <td>2.109174</td>\n",
              "      <td>0.787929</td>\n",
              "      <td>17.780000</td>\n",
              "    </tr>\n",
              "    <tr>\n",
              "      <th>1</th>\n",
              "      <td>1.07000</td>\n",
              "      <td>2.115609</td>\n",
              "      <td>0.745746</td>\n",
              "      <td>19.168395</td>\n",
              "    </tr>\n",
              "    <tr>\n",
              "      <th>2</th>\n",
              "      <td>1.35392</td>\n",
              "      <td>2.126836</td>\n",
              "      <td>0.746674</td>\n",
              "      <td>19.169536</td>\n",
              "    </tr>\n",
              "    <tr>\n",
              "      <th>3</th>\n",
              "      <td>1.35392</td>\n",
              "      <td>2.126836</td>\n",
              "      <td>0.746674</td>\n",
              "      <td>19.169536</td>\n",
              "    </tr>\n",
              "    <tr>\n",
              "      <th>4</th>\n",
              "      <td>1.05000</td>\n",
              "      <td>2.114192</td>\n",
              "      <td>0.750808</td>\n",
              "      <td>19.000000</td>\n",
              "    </tr>\n",
              "  </tbody>\n",
              "</table>\n",
              "</div>"
            ],
            "text/plain": [
              "   BoilGravity_04  MashThickness_04  PitchRate_04  PrimaryTemp_04\n",
              "0         1.03800          2.109174      0.787929       17.780000\n",
              "1         1.07000          2.115609      0.745746       19.168395\n",
              "2         1.35392          2.126836      0.746674       19.169536\n",
              "3         1.35392          2.126836      0.746674       19.169536\n",
              "4         1.05000          2.114192      0.750808       19.000000"
            ]
          },
          "metadata": {},
          "execution_count": 19
        }
      ]
    },
    {
      "cell_type": "code",
      "metadata": {
        "id": "crs7bwv9F0QT"
      },
      "source": [
        ""
      ],
      "execution_count": null,
      "outputs": []
    },
    {
      "cell_type": "markdown",
      "metadata": {
        "id": "I01t0upWF07f"
      },
      "source": [
        "### (4.3) Técnicas de Imputación con Modelos de Machine Learning\n",
        "\n",
        "Podemos corregir los valores faltantes aplicando el aprendizaje automático a nuestro conjunto de datos. Podemos considerar una columna con datos faltantes como nuestra variable de destino, y columnas existentes con datos completos como nuestras variables predictoras, entonces podemos construir un modelo de aprendizaje automático utilizando registros completos como nuestros conjuntos de datos de entrenamiento y prueba y los registros con datos incompletos como nuestra generalización"
      ]
    },
    {
      "cell_type": "markdown",
      "metadata": {
        "id": "Uhdr38BkGlmM"
      },
      "source": [
        "a) KNNImputer:\n",
        "\n",
        "KNNImputer es una técnica de imputación de datos multivariantes que se utiliza para completar los valores faltantes mediante el enfoque K-Neighbors Neighbors . Cada valor faltante se completa con el valor medio de los n vecinos más cercanos encontrados en el conjunto de entrenamiento, ponderados o no ponderados.\n",
        "\n",
        "Si a una muestra le falta más de una característica, entonces el vecino para esa muestra puede ser diferente y si el número de vecinos es menor que n_neighbour especificado, entonces no hay una distancia definida en el conjunto de entrenamiento , el promedio de ese conjunto de entrenamiento se usa durante la imputación."
      ]
    },
    {
      "cell_type": "code",
      "metadata": {
        "id": "LdtbpbD1HH68",
        "colab": {
          "base_uri": "https://localhost:8080/"
        },
        "outputId": "44c7aefe-4301-434a-b83c-99eb7e9c5fe1"
      },
      "source": [
        "#pip install missingpy"
      ],
      "execution_count": 21,
      "outputs": [
        {
          "output_type": "stream",
          "name": "stdout",
          "text": [
            "Collecting missingpy\n",
            "  Downloading missingpy-0.2.0-py3-none-any.whl (49 kB)\n",
            "\u001b[?25l\r\u001b[K     |██████▊                         | 10 kB 27.0 MB/s eta 0:00:01\r\u001b[K     |█████████████▍                  | 20 kB 30.0 MB/s eta 0:00:01\r\u001b[K     |████████████████████            | 30 kB 21.5 MB/s eta 0:00:01\r\u001b[K     |██████████████████████████▊     | 40 kB 17.6 MB/s eta 0:00:01\r\u001b[K     |████████████████████████████████| 49 kB 4.5 MB/s \n",
            "\u001b[?25hInstalling collected packages: missingpy\n",
            "Successfully installed missingpy-0.2.0\n"
          ]
        }
      ]
    },
    {
      "cell_type": "code",
      "metadata": {
        "id": "z5P5A0WDGOAW"
      },
      "source": [
        "from missingpy import KNNImputer"
      ],
      "execution_count": 43,
      "outputs": []
    },
    {
      "cell_type": "code",
      "metadata": {
        "id": "uKvYp-0DGOCv"
      },
      "source": [
        "imp_knn = KNNImputer(n_neighbors=2,weights=\"uniform\")"
      ],
      "execution_count": 44,
      "outputs": []
    },
    {
      "cell_type": "code",
      "metadata": {
        "colab": {
          "base_uri": "https://localhost:8080/"
        },
        "id": "B80oez94HOoG",
        "outputId": "f9875341-43d6-48e3-9d1e-cee8b4139cd2"
      },
      "source": [
        "df_imput05 = df[['BoilGravity','MashThickness','PitchRate','PrimaryTemp']]\n",
        "df_imput05 = imp_knn.fit_transform(df_imput05)\n",
        "\n",
        "df_imput05 = pd.DataFrame(df_imput05, columns=['BoilGravity_05','MashThickness_05','PitchRate_05','PrimaryTemp_05'])\n",
        "print(df_imput05.shape)\n",
        "df_imput05.head()"
      ],
      "execution_count": null,
      "outputs": [
        {
          "output_type": "stream",
          "name": "stderr",
          "text": [
            "/usr/local/lib/python3.7/dist-packages/missingpy/knnimpute.py:224: UserWarning: There are rows with more than 50.0% missing values. These rows are not included as donor neighbors.\n",
            "  .format(self.row_max_missing * 100))\n",
            "/usr/local/lib/python3.7/dist-packages/missingpy/knnimpute.py:282: UserWarning: There are rows with more than 50.0% missing values. The missing features in these rows are imputed with column means.\n",
            "  .format(self.row_max_missing * 100))\n",
            "/usr/local/lib/python3.7/dist-packages/missingpy/pairwise_external.py:135: FutureWarning: 'warn_on_dtype' is deprecated in version 0.21 and will be removed in 0.23. Don't set `warn_on_dtype` to remove this warning.\n",
            "  warn_on_dtype=warn_on_dtype, estimator=estimator)\n",
            "/usr/local/lib/python3.7/dist-packages/missingpy/pairwise_external.py:138: FutureWarning: 'warn_on_dtype' is deprecated in version 0.21 and will be removed in 0.23. Don't set `warn_on_dtype` to remove this warning.\n",
            "  warn_on_dtype=warn_on_dtype, estimator=estimator)\n"
          ]
        }
      ]
    },
    {
      "cell_type": "code",
      "metadata": {
        "id": "khDTVtMGHOp_"
      },
      "source": [
        ""
      ],
      "execution_count": null,
      "outputs": []
    },
    {
      "cell_type": "markdown",
      "metadata": {
        "id": "GBQrkElpH5q1"
      },
      "source": [
        "b) MissForest:\n",
        "\n",
        "Es otra técnica que se utiliza para completar los valores faltantes utilizando Random Forest de forma iterada. La columna candidata se selecciona del conjunto de todas las columnas que tienen el menor número de valores perdidos .\n",
        "\n",
        "En el primer paso, todas las demás columnas, es decir, las columnas no candidatas que tienen valores perdidos, se rellenan con la media de las columnas numéricas y el modo de las columnas categóricas y, a continuación, el imputador ajusta un modelo de bosque aleatorio con las columnas candidatas como variable de resultado ( variable de destino) y las columnas restantes como variables independientes y luego llenando los valores faltantes en la columna candidata utilizando las predicciones del modelo de bosque aleatorio ajustado.\n",
        "\n",
        "Luego, el imputador avanza y se selecciona la siguiente columna candidata con el segundo menor número de valores perdidos y el proceso se repite para cada columna con los valores perdidos."
      ]
    },
    {
      "cell_type": "code",
      "metadata": {
        "id": "eWGtnW5FH5Pl"
      },
      "source": [
        "from missingpy import MissForest"
      ],
      "execution_count": 23,
      "outputs": []
    },
    {
      "cell_type": "code",
      "metadata": {
        "id": "cdQo8dYCH5SX"
      },
      "source": [
        "imp_forest = MissForest(max_iter=2)"
      ],
      "execution_count": 24,
      "outputs": []
    },
    {
      "cell_type": "code",
      "metadata": {
        "colab": {
          "base_uri": "https://localhost:8080/",
          "height": 248
        },
        "id": "CDHdWecSGOF5",
        "outputId": "0931e416-89de-4347-c559-c257345101cc"
      },
      "source": [
        "df_imput06 = df[['BoilGravity','MashThickness','PitchRate','PrimaryTemp']]\n",
        "df_imput06 = imp_forest.fit_transform(df_imput06)\n",
        "\n",
        "df_imput06 = pd.DataFrame(df_imput06, columns=['BoilGravity_05','MashThickness_05','PitchRate_05','PrimaryTemp_05'])\n",
        "print(df_imput06.shape)\n",
        "df_imput06.head()"
      ],
      "execution_count": 25,
      "outputs": [
        {
          "output_type": "stream",
          "name": "stdout",
          "text": [
            "Iteration: 0\n",
            "Iteration: 1\n",
            "(73861, 4)\n"
          ]
        },
        {
          "output_type": "execute_result",
          "data": {
            "text/html": [
              "<div>\n",
              "<style scoped>\n",
              "    .dataframe tbody tr th:only-of-type {\n",
              "        vertical-align: middle;\n",
              "    }\n",
              "\n",
              "    .dataframe tbody tr th {\n",
              "        vertical-align: top;\n",
              "    }\n",
              "\n",
              "    .dataframe thead th {\n",
              "        text-align: right;\n",
              "    }\n",
              "</style>\n",
              "<table border=\"1\" class=\"dataframe\">\n",
              "  <thead>\n",
              "    <tr style=\"text-align: right;\">\n",
              "      <th></th>\n",
              "      <th>BoilGravity_05</th>\n",
              "      <th>MashThickness_05</th>\n",
              "      <th>PitchRate_05</th>\n",
              "      <th>PrimaryTemp_05</th>\n",
              "    </tr>\n",
              "  </thead>\n",
              "  <tbody>\n",
              "    <tr>\n",
              "      <th>0</th>\n",
              "      <td>1.038000</td>\n",
              "      <td>1.340140</td>\n",
              "      <td>0.737036</td>\n",
              "      <td>17.780000</td>\n",
              "    </tr>\n",
              "    <tr>\n",
              "      <th>1</th>\n",
              "      <td>1.070000</td>\n",
              "      <td>1.850500</td>\n",
              "      <td>0.687667</td>\n",
              "      <td>19.030775</td>\n",
              "    </tr>\n",
              "    <tr>\n",
              "      <th>2</th>\n",
              "      <td>1.235298</td>\n",
              "      <td>1.320000</td>\n",
              "      <td>0.550500</td>\n",
              "      <td>16.658851</td>\n",
              "    </tr>\n",
              "    <tr>\n",
              "      <th>3</th>\n",
              "      <td>1.235298</td>\n",
              "      <td>1.320000</td>\n",
              "      <td>0.550500</td>\n",
              "      <td>16.658851</td>\n",
              "    </tr>\n",
              "    <tr>\n",
              "      <th>4</th>\n",
              "      <td>1.050000</td>\n",
              "      <td>3.033975</td>\n",
              "      <td>0.785311</td>\n",
              "      <td>19.000000</td>\n",
              "    </tr>\n",
              "  </tbody>\n",
              "</table>\n",
              "</div>"
            ],
            "text/plain": [
              "   BoilGravity_05  MashThickness_05  PitchRate_05  PrimaryTemp_05\n",
              "0        1.038000          1.340140      0.737036       17.780000\n",
              "1        1.070000          1.850500      0.687667       19.030775\n",
              "2        1.235298          1.320000      0.550500       16.658851\n",
              "3        1.235298          1.320000      0.550500       16.658851\n",
              "4        1.050000          3.033975      0.785311       19.000000"
            ]
          },
          "metadata": {},
          "execution_count": 25
        }
      ]
    },
    {
      "cell_type": "markdown",
      "metadata": {
        "id": "-qlpnDDgNXn3"
      },
      "source": [
        "para validar que las distribuciones se mantienen."
      ]
    },
    {
      "cell_type": "code",
      "metadata": {
        "id": "YFhE6zVmIV9s",
        "colab": {
          "base_uri": "https://localhost:8080/",
          "height": 290
        },
        "outputId": "0c710097-4c8a-4841-8aac-f4170b8f16a0"
      },
      "source": [
        "pd.merge(df[['BoilGravity','MashThickness','PitchRate','PrimaryTemp']],df_imput06,left_index=True, right_index=True).describe()"
      ],
      "execution_count": 42,
      "outputs": [
        {
          "output_type": "execute_result",
          "data": {
            "text/html": [
              "<div>\n",
              "<style scoped>\n",
              "    .dataframe tbody tr th:only-of-type {\n",
              "        vertical-align: middle;\n",
              "    }\n",
              "\n",
              "    .dataframe tbody tr th {\n",
              "        vertical-align: top;\n",
              "    }\n",
              "\n",
              "    .dataframe thead th {\n",
              "        text-align: right;\n",
              "    }\n",
              "</style>\n",
              "<table border=\"1\" class=\"dataframe\">\n",
              "  <thead>\n",
              "    <tr style=\"text-align: right;\">\n",
              "      <th></th>\n",
              "      <th>BoilGravity</th>\n",
              "      <th>MashThickness</th>\n",
              "      <th>PitchRate</th>\n",
              "      <th>PrimaryTemp</th>\n",
              "      <th>BoilGravity_05</th>\n",
              "      <th>MashThickness_05</th>\n",
              "      <th>PitchRate_05</th>\n",
              "      <th>PrimaryTemp_05</th>\n",
              "    </tr>\n",
              "  </thead>\n",
              "  <tbody>\n",
              "    <tr>\n",
              "      <th>count</th>\n",
              "      <td>70871.000000</td>\n",
              "      <td>43997.000000</td>\n",
              "      <td>34609.000000</td>\n",
              "      <td>51199.000000</td>\n",
              "      <td>73861.000000</td>\n",
              "      <td>73861.000000</td>\n",
              "      <td>73861.000000</td>\n",
              "      <td>73861.000000</td>\n",
              "    </tr>\n",
              "    <tr>\n",
              "      <th>mean</th>\n",
              "      <td>1.353955</td>\n",
              "      <td>2.127235</td>\n",
              "      <td>0.750468</td>\n",
              "      <td>19.175641</td>\n",
              "      <td>1.348937</td>\n",
              "      <td>2.098626</td>\n",
              "      <td>0.740183</td>\n",
              "      <td>19.141531</td>\n",
              "    </tr>\n",
              "    <tr>\n",
              "      <th>std</th>\n",
              "      <td>1.930989</td>\n",
              "      <td>1.682347</td>\n",
              "      <td>0.394262</td>\n",
              "      <td>4.219676</td>\n",
              "      <td>1.892370</td>\n",
              "      <td>1.445886</td>\n",
              "      <td>0.307884</td>\n",
              "      <td>3.633447</td>\n",
              "    </tr>\n",
              "    <tr>\n",
              "      <th>min</th>\n",
              "      <td>0.000000</td>\n",
              "      <td>0.000000</td>\n",
              "      <td>0.000000</td>\n",
              "      <td>-17.780000</td>\n",
              "      <td>0.000000</td>\n",
              "      <td>0.000000</td>\n",
              "      <td>0.000000</td>\n",
              "      <td>-17.780000</td>\n",
              "    </tr>\n",
              "    <tr>\n",
              "      <th>25%</th>\n",
              "      <td>1.040000</td>\n",
              "      <td>1.500000</td>\n",
              "      <td>0.350000</td>\n",
              "      <td>18.000000</td>\n",
              "      <td>1.040000</td>\n",
              "      <td>1.465740</td>\n",
              "      <td>0.523233</td>\n",
              "      <td>18.330000</td>\n",
              "    </tr>\n",
              "    <tr>\n",
              "      <th>50%</th>\n",
              "      <td>1.047000</td>\n",
              "      <td>1.500000</td>\n",
              "      <td>0.750000</td>\n",
              "      <td>20.000000</td>\n",
              "      <td>1.048000</td>\n",
              "      <td>1.534073</td>\n",
              "      <td>0.732297</td>\n",
              "      <td>19.440000</td>\n",
              "    </tr>\n",
              "    <tr>\n",
              "      <th>75%</th>\n",
              "      <td>1.060000</td>\n",
              "      <td>3.000000</td>\n",
              "      <td>1.000000</td>\n",
              "      <td>20.000000</td>\n",
              "      <td>1.063000</td>\n",
              "      <td>2.766198</td>\n",
              "      <td>0.859942</td>\n",
              "      <td>20.000000</td>\n",
              "    </tr>\n",
              "    <tr>\n",
              "      <th>max</th>\n",
              "      <td>52.600000</td>\n",
              "      <td>100.000000</td>\n",
              "      <td>2.000000</td>\n",
              "      <td>114.000000</td>\n",
              "      <td>52.600000</td>\n",
              "      <td>100.000000</td>\n",
              "      <td>2.000000</td>\n",
              "      <td>114.000000</td>\n",
              "    </tr>\n",
              "  </tbody>\n",
              "</table>\n",
              "</div>"
            ],
            "text/plain": [
              "        BoilGravity  MashThickness  ...  PitchRate_05  PrimaryTemp_05\n",
              "count  70871.000000   43997.000000  ...  73861.000000    73861.000000\n",
              "mean       1.353955       2.127235  ...      0.740183       19.141531\n",
              "std        1.930989       1.682347  ...      0.307884        3.633447\n",
              "min        0.000000       0.000000  ...      0.000000      -17.780000\n",
              "25%        1.040000       1.500000  ...      0.523233       18.330000\n",
              "50%        1.047000       1.500000  ...      0.732297       19.440000\n",
              "75%        1.060000       3.000000  ...      0.859942       20.000000\n",
              "max       52.600000     100.000000  ...      2.000000      114.000000\n",
              "\n",
              "[8 rows x 8 columns]"
            ]
          },
          "metadata": {},
          "execution_count": 42
        }
      ]
    },
    {
      "cell_type": "code",
      "metadata": {
        "id": "kj2pBNBUI9Gl"
      },
      "source": [
        ""
      ],
      "execution_count": null,
      "outputs": []
    }
  ]
}